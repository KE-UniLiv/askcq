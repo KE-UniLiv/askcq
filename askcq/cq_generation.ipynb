{
 "cells": [
  {
   "cell_type": "markdown",
   "id": "5df93541",
   "metadata": {},
   "source": [
    "# Story2CQ LLM Generation"
   ]
  },
  {
   "cell_type": "code",
   "execution_count": 1,
   "id": "7cfab288",
   "metadata": {},
   "outputs": [],
   "source": [
    "from google import genai\n",
    "from google.genai import types\n",
    "\n",
    "from utils import get_key, generate_hash"
   ]
  },
  {
   "cell_type": "code",
   "execution_count": 2,
   "id": "cf35dc85",
   "metadata": {},
   "outputs": [],
   "source": [
    "PERSONA_FILES = {\n",
    "    \"sonia\" :\"../data/bme_persona_sonia.md\",\n",
    "    \"liz\": \"../data/bme_persona_liz.md\",\n",
    "}\n",
    "SELECTED_USER_STORY = \"../data/bme_us1.md\""
   ]
  },
  {
   "cell_type": "code",
   "execution_count": 3,
   "id": "b935e1e3",
   "metadata": {},
   "outputs": [],
   "source": [
    "persona_descriptions = {}\n",
    "\n",
    "for persona_name, persona_file in PERSONA_FILES.items():\n",
    "    with open(persona_file, \"r\") as f:\n",
    "        persona_descriptions[persona_name] = f.read()\n",
    "        \n",
    "# Read the selected user story\n",
    "with open(SELECTED_USER_STORY, \"r\") as f:\n",
    "    user_story = f.read()"
   ]
  },
  {
   "cell_type": "markdown",
   "id": "1520c2ac",
   "metadata": {},
   "source": [
    "## Prompt creation"
   ]
  },
  {
   "cell_type": "code",
   "execution_count": 4,
   "id": "e82ec921",
   "metadata": {},
   "outputs": [],
   "source": [
    "SYSTEM_ROLE = \"You are an ontology engineer who is tasked to formulate requirements in the form of competency question given a set of persona descriptions and user stories.\"\n",
    "\n",
    "INSTRUCTION = \"Generate competency questions based on the provided persona descriptions and user story.\"\n",
    "\n",
    "# Combine the persona descriptions and user story into a single input\n",
    "prompt = INSTRUCTION + \"\\n\\n[Persona Descriptions]\\n\"\n",
    "for _, persona_description in persona_descriptions.items():\n",
    "    prompt += f\"{persona_description}\\n\\n\"\n",
    "prompt += \"[User Story]\\n\" + user_story"
   ]
  },
  {
   "cell_type": "markdown",
   "id": "176104d2",
   "metadata": {},
   "source": [
    "## Gemini extraction"
   ]
  },
  {
   "cell_type": "code",
   "execution_count": 7,
   "id": "617a6b7d",
   "metadata": {},
   "outputs": [],
   "source": [
    "LLM_CONFIG = {\n",
    "    \"temperature\": 0,\n",
    "    \"max_tokens\": 2000,\n",
    "    \"top_p\": 1,\n",
    "    \"frequency_penalty\": 0,\n",
    "    \"presence_penalty\": 0,\n",
    "    \"seed\": 46, # the Dr.\n",
    "}\n",
    "\n",
    "GEMINI_MODEL = \"gemini-1.5-pro\"\n",
    "GEMINI_KEY = get_key(\"gemini\")\n",
    "\n",
    "model_hash = generate_hash(LLM_CONFIG)"
   ]
  },
  {
   "cell_type": "code",
   "execution_count": 8,
   "id": "e8de4894",
   "metadata": {},
   "outputs": [],
   "source": [
    "client = genai.Client(api_key=GEMINI_KEY)"
   ]
  },
  {
   "cell_type": "code",
   "execution_count": 9,
   "id": "ec6dda8f",
   "metadata": {},
   "outputs": [],
   "source": [
    "response = client.models.generate_content(\n",
    "    model=GEMINI_MODEL,\n",
    "    config=types.GenerateContentConfig(\n",
    "        system_instruction=SYSTEM_ROLE,\n",
    "        temperature=LLM_CONFIG[\"temperature\"],\n",
    "        max_output_tokens=LLM_CONFIG[\"max_tokens\"],\n",
    "        top_p=LLM_CONFIG[\"top_p\"],\n",
    "        frequency_penalty=LLM_CONFIG[\"frequency_penalty\"],\n",
    "        presence_penalty=LLM_CONFIG[\"presence_penalty\"],\n",
    "        seed=LLM_CONFIG[\"seed\"],\n",
    "    ),\n",
    "    contents=prompt,\n",
    ")"
   ]
  },
  {
   "cell_type": "code",
   "execution_count": 11,
   "id": "24d40fe8",
   "metadata": {},
   "outputs": [],
   "source": [
    "# print(response.text)\n",
    "# Dump the response to a file\n",
    "with open(f\"../data/bme_cqs_us1_{GEMINI_MODEL}_{model_hash}.txt\", \"w\") as f:\n",
    "    f.write(response.text)"
   ]
  },
  {
   "cell_type": "code",
   "execution_count": null,
   "id": "2c9adff9",
   "metadata": {},
   "outputs": [],
   "source": []
  }
 ],
 "metadata": {
  "kernelspec": {
   "display_name": "bmenv",
   "language": "python",
   "name": "python3"
  },
  "language_info": {
   "codemirror_mode": {
    "name": "ipython",
    "version": 3
   },
   "file_extension": ".py",
   "mimetype": "text/x-python",
   "name": "python",
   "nbconvert_exporter": "python",
   "pygments_lexer": "ipython3",
   "version": "3.12.8"
  }
 },
 "nbformat": 4,
 "nbformat_minor": 5
}
